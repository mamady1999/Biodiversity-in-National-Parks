{
 "cells": [
  {
   "cell_type": "markdown",
   "metadata": {},
   "source": [
    "### *Project Biodiversity in National Parks*\n"
   ]
  },
  {
   "cell_type": "markdown",
   "metadata": {},
   "source": [
    "### *Goal of the project*"
   ]
  },
  {
   "cell_type": "markdown",
   "metadata": {},
   "source": [
    "#### *The aim of this project is to interpret National Park Service data on endangered species in different parks.*\n",
    "1. Analysis of data on the conservation status of these species\n",
    "2. Data cleansing\n",
    "3. Data visualization\n",
    "4. Question and answer phase"
   ]
  },
  {
   "cell_type": "markdown",
   "metadata": {},
   "source": [
    "#### *Data : For this project, we will interpret National Park Service data on endangered species in different parks.*"
   ]
  },
  {
   "cell_type": "markdown",
   "metadata": {},
   "source": [
    "#### *Analyse :In our analysis, we will use the knowledge acquired so far in the course, but also and especially the following:*\n",
    "* Visualisation of data\n",
    "* Communication of data science results"
   ]
  },
  {
   "cell_type": "markdown",
   "metadata": {},
   "source": [
    "### *Importing the libraries used in the project*"
   ]
  },
  {
   "cell_type": "code",
   "execution_count": 1,
   "metadata": {},
   "outputs": [],
   "source": [
    "import pandas as pd\n",
    "import numpy as np\n",
    "import seaborn as sns\n",
    "from matplotlib import pyplot as plt\n"
   ]
  },
  {
   "cell_type": "markdown",
   "metadata": {},
   "source": [
    "### *Loading datas with pandas' method read_csv*"
   ]
  },
  {
   "cell_type": "code",
   "execution_count": 49,
   "metadata": {},
   "outputs": [
    {
     "data": {
      "text/html": [
       "<div>\n",
       "<style scoped>\n",
       "    .dataframe tbody tr th:only-of-type {\n",
       "        vertical-align: middle;\n",
       "    }\n",
       "\n",
       "    .dataframe tbody tr th {\n",
       "        vertical-align: top;\n",
       "    }\n",
       "\n",
       "    .dataframe thead th {\n",
       "        text-align: right;\n",
       "    }\n",
       "</style>\n",
       "<table border=\"1\" class=\"dataframe\">\n",
       "  <thead>\n",
       "    <tr style=\"text-align: right;\">\n",
       "      <th></th>\n",
       "      <th>category</th>\n",
       "      <th>scientific_name</th>\n",
       "      <th>common_names</th>\n",
       "      <th>conservation_status</th>\n",
       "    </tr>\n",
       "  </thead>\n",
       "  <tbody>\n",
       "    <tr>\n",
       "      <th>0</th>\n",
       "      <td>Mammal</td>\n",
       "      <td>Clethrionomys gapperi gapperi</td>\n",
       "      <td>Gapper's Red-Backed Vole</td>\n",
       "      <td>NaN</td>\n",
       "    </tr>\n",
       "    <tr>\n",
       "      <th>1</th>\n",
       "      <td>Mammal</td>\n",
       "      <td>Bos bison</td>\n",
       "      <td>American Bison, Bison</td>\n",
       "      <td>NaN</td>\n",
       "    </tr>\n",
       "    <tr>\n",
       "      <th>2</th>\n",
       "      <td>Mammal</td>\n",
       "      <td>Bos taurus</td>\n",
       "      <td>Aurochs, Aurochs, Domestic Cattle (Feral), Dom...</td>\n",
       "      <td>NaN</td>\n",
       "    </tr>\n",
       "    <tr>\n",
       "      <th>3</th>\n",
       "      <td>Mammal</td>\n",
       "      <td>Ovis aries</td>\n",
       "      <td>Domestic Sheep, Mouflon, Red Sheep, Sheep (Feral)</td>\n",
       "      <td>NaN</td>\n",
       "    </tr>\n",
       "    <tr>\n",
       "      <th>4</th>\n",
       "      <td>Mammal</td>\n",
       "      <td>Cervus elaphus</td>\n",
       "      <td>Wapiti Or Elk</td>\n",
       "      <td>NaN</td>\n",
       "    </tr>\n",
       "  </tbody>\n",
       "</table>\n",
       "</div>"
      ],
      "text/plain": [
       "  category                scientific_name  \\\n",
       "0   Mammal  Clethrionomys gapperi gapperi   \n",
       "1   Mammal                      Bos bison   \n",
       "2   Mammal                     Bos taurus   \n",
       "3   Mammal                     Ovis aries   \n",
       "4   Mammal                 Cervus elaphus   \n",
       "\n",
       "                                        common_names conservation_status  \n",
       "0                           Gapper's Red-Backed Vole                 NaN  \n",
       "1                              American Bison, Bison                 NaN  \n",
       "2  Aurochs, Aurochs, Domestic Cattle (Feral), Dom...                 NaN  \n",
       "3  Domestic Sheep, Mouflon, Red Sheep, Sheep (Feral)                 NaN  \n",
       "4                                      Wapiti Or Elk                 NaN  "
      ]
     },
     "execution_count": 49,
     "metadata": {},
     "output_type": "execute_result"
    }
   ],
   "source": [
    "#species_info.csv - contains data about different species and their conservation status\n",
    "df1 = pd.read_csv(\"species_info.csv\")\n",
    "#Display of the first fifteen lines of the dataframe\n",
    "df1.head()"
   ]
  },
  {
   "cell_type": "code",
   "execution_count": 121,
   "metadata": {},
   "outputs": [
    {
     "name": "stdout",
     "output_type": "stream",
     "text": [
      "            scientific_name                            park_name  observations\n",
      "0        Vicia benghalensis  Great Smoky Mountains National Park            68\n",
      "1            Neovison vison  Great Smoky Mountains National Park            77\n",
      "2         Prunus subcordata               Yosemite National Park           138\n",
      "3      Abutilon theophrasti                  Bryce National Park            84\n",
      "4  Githopsis specularioides  Great Smoky Mountains National Park            85\n"
     ]
    }
   ],
   "source": [
    "#observations.csv - holds recorded sightings of different species at several national parks for the past 7 days.\n",
    "df2 = pd.read_csv(\"observations.csv\")\n",
    "#Display of the first fifteen lines of the dataframe\n",
    "print(df2.head())\n",
    "df1_df2 = pd.merge(df1,df2)\n"
   ]
  },
  {
   "cell_type": "code",
   "execution_count": 119,
   "metadata": {},
   "outputs": [
    {
     "name": "stdout",
     "output_type": "stream",
     "text": [
      "DataFrame fusionné\n",
      "  category scientific_name common_names conservation_status  \\\n",
      "0   Mammal   Canis latrans       Coyote  Species of Concern   \n",
      "1   Mammal   Canis latrans       Coyote  Species of Concern   \n",
      "2   Mammal   Canis latrans       Coyote  Species of Concern   \n",
      "3   Mammal   Canis latrans       Coyote  Species of Concern   \n",
      "4   Mammal     Canis lupus    Gray Wolf          Endangered   \n",
      "\n",
      "                             park_name  observations  \n",
      "0                  Bryce National Park            85  \n",
      "1            Yellowstone National Park           206  \n",
      "2  Great Smoky Mountains National Park            68  \n",
      "3               Yosemite National Park            99  \n",
      "4               Yosemite National Park            35  \n",
      "<class 'pandas.core.frame.DataFrame'>\n",
      "Int64Index: 880 entries, 0 to 879\n",
      "Data columns (total 6 columns):\n",
      " #   Column               Non-Null Count  Dtype \n",
      "---  ------               --------------  ----- \n",
      " 0   category             880 non-null    object\n",
      " 1   scientific_name      880 non-null    object\n",
      " 2   common_names         880 non-null    object\n",
      " 3   conservation_status  880 non-null    object\n",
      " 4   park_name            880 non-null    object\n",
      " 5   observations         880 non-null    int64 \n",
      "dtypes: int64(1), object(5)\n",
      "memory usage: 88.1+ KB\n"
     ]
    }
   ],
   "source": [
    "print(\"DataFrame fusionné\")\n",
    "print(df1_df2.head())\n",
    "df1_df2.info()"
   ]
  },
  {
   "cell_type": "markdown",
   "metadata": {},
   "source": [
    "### *Information on the data*\n"
   ]
  },
  {
   "cell_type": "code",
   "execution_count": 18,
   "metadata": {},
   "outputs": [
    {
     "name": "stdout",
     "output_type": "stream",
     "text": [
      "<class 'pandas.core.frame.DataFrame'>\n",
      "Int64Index: 191 entries, 7 to 5676\n",
      "Data columns (total 4 columns):\n",
      " #   Column               Non-Null Count  Dtype \n",
      "---  ------               --------------  ----- \n",
      " 0   category             191 non-null    object\n",
      " 1   scientific_name      191 non-null    object\n",
      " 2   common_names         191 non-null    object\n",
      " 3   conservation_status  191 non-null    object\n",
      "dtypes: object(4)\n",
      "memory usage: 7.5+ KB\n",
      "(191, 4)\n"
     ]
    }
   ],
   "source": [
    "#Dataframe1\n",
    "df1.info()\n",
    "print(df1.shape)"
   ]
  },
  {
   "cell_type": "code",
   "execution_count": 21,
   "metadata": {},
   "outputs": [
    {
     "name": "stdout",
     "output_type": "stream",
     "text": [
      "<class 'pandas.core.frame.DataFrame'>\n",
      "RangeIndex: 23296 entries, 0 to 23295\n",
      "Data columns (total 3 columns):\n",
      " #   Column           Non-Null Count  Dtype \n",
      "---  ------           --------------  ----- \n",
      " 0   scientific_name  23296 non-null  object\n",
      " 1   park_name        23296 non-null  object\n",
      " 2   observations     23296 non-null  int64 \n",
      "dtypes: int64(1), object(2)\n",
      "memory usage: 546.1+ KB\n",
      "(23296, 3)\n"
     ]
    }
   ],
   "source": [
    "#Dataframe2\n",
    "df2.info()\n",
    "print(df2.shape)"
   ]
  },
  {
   "cell_type": "markdown",
   "metadata": {},
   "source": [
    "### *Explore and Explain Data*"
   ]
  },
  {
   "cell_type": "markdown",
   "metadata": {},
   "source": [
    "#### *Summary statistics*"
   ]
  },
  {
   "cell_type": "markdown",
   "metadata": {},
   "source": [
    "#### *species_info.csv - contains data about different species and their conservation status*"
   ]
  },
  {
   "cell_type": "code",
   "execution_count": 38,
   "metadata": {},
   "outputs": [
    {
     "name": "stdout",
     "output_type": "stream",
     "text": [
      "Proportion of category\n",
      "Bird                 0.413613\n",
      "Vascular Plant       0.240838\n",
      "Mammal               0.198953\n",
      "Fish                 0.057592\n",
      "Amphibian            0.036649\n",
      "Nonvascular Plant    0.026178\n",
      "Reptile              0.026178\n",
      "Name: category, dtype: float64\n",
      "\n",
      "Proportion of scientific_name\n",
      "Canis lupus              0.015707\n",
      "Myotis lucifugus         0.015707\n",
      "Gavia immer              0.010471\n",
      "Riparia riparia          0.010471\n",
      "Nycticorax nycticorax    0.010471\n",
      "                           ...   \n",
      "Myotis volans            0.005236\n",
      "Bassariscus astutus      0.005236\n",
      "Grus americana           0.005236\n",
      "Bazzania nudicaulis      0.005236\n",
      "Stellula calliope        0.005236\n",
      "Name: scientific_name, Length: 179, dtype: float64\n",
      "\n",
      "Proportion of common_names\n",
      "Gray Wolf, Wolf                                      0.010471\n",
      "Yellow Rail                                          0.005236\n",
      "Fringed Myotis, Fringed Myotis                       0.005236\n",
      "Bazzania                                             0.005236\n",
      "Yellow-Breasted Chat                                 0.005236\n",
      "                                                       ...   \n",
      "Yellowfin Madtom                                     0.005236\n",
      "Appalachian Bewick's Wren                            0.005236\n",
      "Flame Chub                                           0.005236\n",
      "Yosemite Woolly Sunflower                            0.005236\n",
      "American Swallow-Tailed Kite, Swallow-Tailed Kite    0.005236\n",
      "Name: common_names, Length: 190, dtype: float64\n",
      "\n",
      "Proportion of conservation_status\n",
      "Species of Concern    0.842932\n",
      "Endangered            0.083770\n",
      "Threatened            0.052356\n",
      "In Recovery           0.020942\n",
      "Name: conservation_status, dtype: float64\n"
     ]
    }
   ],
   "source": [
    "#Deletion of NaN values\n",
    "df1.dropna(inplace = True)\n",
    "#category column\n",
    "print(\"Proportion of category\")\n",
    "print(df1.loc[:,\"category\"].value_counts(normalize = True))\n",
    "print(\"\\nProportion of scientific_name\")\n",
    "#scientific_name column\n",
    "print(df1.loc[:,\"scientific_name\"].value_counts(normalize = True))\n",
    "#common_names column\n",
    "print(\"\\nProportion of common_names\")\n",
    "print(df1.loc[:,\"common_names\"].value_counts(normalize = True))\n",
    "print(\"\\nProportion of conservation_status\")\n",
    "print(df1.loc[:,\"conservation_status\"].value_counts(normalize = True)\n",
    ")"
   ]
  },
  {
   "cell_type": "markdown",
   "metadata": {},
   "source": [
    "### *Data visualization*"
   ]
  },
  {
   "cell_type": "markdown",
   "metadata": {},
   "source": [
    "#### *With the visualization we will answer the following questions:*\n",
    "1. Are certain types of species more likely to be endangered?\n",
    "2. Are the differences between species and their conservation status significant?\n",
    "3. Which species were spotted the most at each park?\n"
   ]
  },
  {
   "cell_type": "markdown",
   "metadata": {},
   "source": [
    "#### We will use a bar graph to answer the first question."
   ]
  },
  {
   "cell_type": "code",
   "execution_count": 131,
   "metadata": {},
   "outputs": [
    {
     "data": {
      "image/png": "[encoded data removed]",
      "text/plain": [
       "<Figure size 432x288 with 1 Axes>"
      ]
     },
     "metadata": {
      "needs_background": "light"
     },
     "output_type": "display_data"
    }
   ],
   "source": [
    "sns.set_context(\"paper\")\n",
    "sns.barplot(data=df1_df2, x = \"conservation_status\", y = \"observations\", hue = \"category\")\n",
    "plt.title(\"Conservation status of species according to observations\")\n",
    "plt.savefig(\"fig1.png\")\n",
    "plt.show()"
   ]
  },
  {
   "cell_type": "code",
   "execution_count": 128,
   "metadata": {},
   "outputs": [
    {
     "data": {
      "text/plain": [
       "category\n",
       "Bird                 348\n",
       "Mammal               232\n",
       "Vascular Plant       184\n",
       "Fish                  48\n",
       "Amphibian             28\n",
       "Reptile               20\n",
       "Nonvascular Plant     20\n",
       "Name: conservation_status, dtype: int64"
      ]
     },
     "execution_count": 128,
     "metadata": {},
     "output_type": "execute_result"
    }
   ],
   "source": [
    "df1_df2.groupby(\"category\")[\"conservation_status\"].count().sort_values(ascending = False)"
   ]
  },
  {
   "cell_type": "markdown",
   "metadata": {},
   "source": [
    "### Yes, mammals are the most endangered."
   ]
  },
  {
   "cell_type": "markdown",
   "metadata": {},
   "source": [
    "### To answer the second question, we will use the chi-square test :\n",
    "Chi-square test\n",
    "To test for an association between two categorical variables, we can use a chi-square test. The null hypothesis for a chi-square test is that there is no association between the variables and the alternative hypothesis is that there is an association between the variables. A Chi-Square test can be implemented in Python using the chi2_contingency()function from scipy.stats."
   ]
  },
  {
   "cell_type": "code",
   "execution_count": 89,
   "metadata": {},
   "outputs": [
    {
     "name": "stdout",
     "output_type": "stream",
     "text": [
      "2.7594442674479634e-49\n"
     ]
    }
   ],
   "source": [
    "from scipy.stats import chi2_contingency\n",
    "import math\n",
    "# create contingency table\n",
    "ab_contingency = pd.crosstab(df1_df2.category, df1_df2.conservation_status)\n",
    " \n",
    "# run a Chi-Square test\n",
    "chi2, pval, dof, expected = chi2_contingency(ab_contingency)\n",
    "print(pval)"
   ]
  },
  {
   "cell_type": "markdown",
   "metadata": {},
   "source": [
    "### *The p-value obtained is less than 0.5, so the differences between the species and their conservation status are significant.*"
   ]
  },
  {
   "cell_type": "markdown",
   "metadata": {},
   "source": [
    "#### We will use a bar graph to answer the third question."
   ]
  },
  {
   "cell_type": "code",
   "execution_count": 132,
   "metadata": {},
   "outputs": [
    {
     "data": {
      "image/png": "[encoded data removed]",
      "text/plain": [
       "<Figure size 432x288 with 1 Axes>"
      ]
     },
     "metadata": {
      "needs_background": "light"
     },
     "output_type": "display_data"
    }
   ],
   "source": [
    "sns.set_context(\"paper\")\n",
    "sns.barplot(data=df1_df2, x = \"category\", y = \"observations\", hue = \"park_name\")\n",
    "plt.title(\"\")\n",
    "plt.savefig(\"fig2.png\")\n",
    "plt.show()"
   ]
  },
  {
   "cell_type": "code",
   "execution_count": 118,
   "metadata": {},
   "outputs": [
    {
     "data": {
      "text/html": [
       "<div>\n",
       "<style scoped>\n",
       "    .dataframe tbody tr th:only-of-type {\n",
       "        vertical-align: middle;\n",
       "    }\n",
       "\n",
       "    .dataframe tbody tr th {\n",
       "        vertical-align: top;\n",
       "    }\n",
       "\n",
       "    .dataframe thead th {\n",
       "        text-align: right;\n",
       "    }\n",
       "</style>\n",
       "<table border=\"1\" class=\"dataframe\">\n",
       "  <thead>\n",
       "    <tr style=\"text-align: right;\">\n",
       "      <th>category</th>\n",
       "      <th>Amphibian</th>\n",
       "      <th>Bird</th>\n",
       "      <th>Fish</th>\n",
       "      <th>Mammal</th>\n",
       "      <th>Nonvascular Plant</th>\n",
       "      <th>Reptile</th>\n",
       "      <th>Vascular Plant</th>\n",
       "    </tr>\n",
       "    <tr>\n",
       "      <th>park_name</th>\n",
       "      <th></th>\n",
       "      <th></th>\n",
       "      <th></th>\n",
       "      <th></th>\n",
       "      <th></th>\n",
       "      <th></th>\n",
       "      <th></th>\n",
       "    </tr>\n",
       "  </thead>\n",
       "  <tbody>\n",
       "    <tr>\n",
       "      <th>Bryce National Park</th>\n",
       "      <td>128</td>\n",
       "      <td>130</td>\n",
       "      <td>105</td>\n",
       "      <td>152</td>\n",
       "      <td>135</td>\n",
       "      <td>87</td>\n",
       "      <td>133</td>\n",
       "    </tr>\n",
       "    <tr>\n",
       "      <th>Great Smoky Mountains National Park</th>\n",
       "      <td>85</td>\n",
       "      <td>115</td>\n",
       "      <td>87</td>\n",
       "      <td>97</td>\n",
       "      <td>108</td>\n",
       "      <td>110</td>\n",
       "      <td>95</td>\n",
       "    </tr>\n",
       "    <tr>\n",
       "      <th>Yellowstone National Park</th>\n",
       "      <td>238</td>\n",
       "      <td>266</td>\n",
       "      <td>253</td>\n",
       "      <td>261</td>\n",
       "      <td>268</td>\n",
       "      <td>245</td>\n",
       "      <td>260</td>\n",
       "    </tr>\n",
       "    <tr>\n",
       "      <th>Yosemite National Park</th>\n",
       "      <td>162</td>\n",
       "      <td>178</td>\n",
       "      <td>149</td>\n",
       "      <td>169</td>\n",
       "      <td>142</td>\n",
       "      <td>162</td>\n",
       "      <td>169</td>\n",
       "    </tr>\n",
       "  </tbody>\n",
       "</table>\n",
       "</div>"
      ],
      "text/plain": [
       "category                             Amphibian  Bird  Fish  Mammal  \\\n",
       "park_name                                                            \n",
       "Bryce National Park                        128   130   105     152   \n",
       "Great Smoky Mountains National Park         85   115    87      97   \n",
       "Yellowstone National Park                  238   266   253     261   \n",
       "Yosemite National Park                     162   178   149     169   \n",
       "\n",
       "category                             Nonvascular Plant  Reptile  \\\n",
       "park_name                                                         \n",
       "Bryce National Park                                135       87   \n",
       "Great Smoky Mountains National Park                108      110   \n",
       "Yellowstone National Park                          268      245   \n",
       "Yosemite National Park                             142      162   \n",
       "\n",
       "category                             Vascular Plant  \n",
       "park_name                                            \n",
       "Bryce National Park                             133  \n",
       "Great Smoky Mountains National Park              95  \n",
       "Yellowstone National Park                       260  \n",
       "Yosemite National Park                          169  "
      ]
     },
     "execution_count": 118,
     "metadata": {},
     "output_type": "execute_result"
    }
   ],
   "source": [
    "retour = df1_df2.groupby([\"category\", \"park_name\"])[\"observations\"].max().reset_index()\n",
    "pivoted = retour.pivot(columns = \"category\", index = \"park_name\", values = \"observations\")\n",
    "pivoted"
   ]
  },
  {
   "cell_type": "markdown",
   "metadata": {},
   "source": [
    "### The table above shows the numbers of the most repeated species in each park."
   ]
  },
  {
   "cell_type": "markdown",
   "metadata": {},
   "source": [
    "### *Conclusion: In carrying out this project, we have used methods and practical advice from the data science course. This helped us to gain confidence but also to remove any doubts about our ability to carry out a data science project.*"
   ]
  },
  {
   "cell_type": "code",
   "execution_count": null,
   "metadata": {},
   "outputs": [],
   "source": []
  }
 ],
 "metadata": {
  "kernelspec": {
   "display_name": "Python 3",
   "language": "python",
   "name": "python3"
  },
  "language_info": {
   "codemirror_mode": {
    "name": "ipython",
    "version": 3
   },
   "file_extension": ".py",
   "mimetype": "text/x-python",
   "name": "python",
   "nbconvert_exporter": "python",
   "pygments_lexer": "ipython3",
   "version": "3.8.3"
  }
 },
 "nbformat": 4,
 "nbformat_minor": 4
}
